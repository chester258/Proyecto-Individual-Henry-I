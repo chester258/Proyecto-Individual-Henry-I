{
 "cells": [
  {
   "cell_type": "code",
   "execution_count": 5,
   "metadata": {},
   "outputs": [],
   "source": [
    "import pandas as pd\n"
   ]
  },
  {
   "cell_type": "code",
   "execution_count": 7,
   "metadata": {},
   "outputs": [],
   "source": [
    "#score\n",
    "\n",
    "r1 = pd.read_csv('1.csv')\n",
    "r2 = pd.read_csv('2.csv')\n",
    "r3 = pd.read_csv('3.csv')\n",
    "r4 = pd.read_csv('4.csv')\n",
    "r5 = pd.read_csv('5.csv')\n",
    "r6 = pd.read_csv('6.csv')\n",
    "r7 = pd.read_csv('7.csv')\n",
    "r8 = pd.read_csv('8.csv')"
   ]
  },
  {
   "cell_type": "code",
   "execution_count": 16,
   "metadata": {},
   "outputs": [],
   "source": [
    "rf = pd.concat([r1,r2,r3,r4,r5,r6,r7,r8],axis=0)\n",
    "rf.rename(columns={'rating':'score'},inplace=True)"
   ]
  },
  {
   "cell_type": "code",
   "execution_count": 26,
   "metadata": {},
   "outputs": [],
   "source": [
    "#score\n",
    "score = rf[['movieId','score']].groupby('movieId').mean()"
   ]
  },
  {
   "cell_type": "code",
   "execution_count": 27,
   "metadata": {},
   "outputs": [],
   "source": [
    "score.to_csv('rating-final.csv',index=False)"
   ]
  }
 ],
 "metadata": {
  "kernelspec": {
   "display_name": "Python 3",
   "language": "python",
   "name": "python3"
  },
  "language_info": {
   "codemirror_mode": {
    "name": "ipython",
    "version": 3
   },
   "file_extension": ".py",
   "mimetype": "text/x-python",
   "name": "python",
   "nbconvert_exporter": "python",
   "pygments_lexer": "ipython3",
   "version": "3.10.10"
  },
  "orig_nbformat": 4,
  "vscode": {
   "interpreter": {
    "hash": "f8ca15d83b6fb72cece3edcf60f6aa40d2cbdeb5c60e0f188ff8c7c65828fd00"
   }
  }
 },
 "nbformat": 4,
 "nbformat_minor": 2
}
